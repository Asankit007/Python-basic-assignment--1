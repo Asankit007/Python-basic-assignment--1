{
 "cells": [
  {
   "cell_type": "code",
   "execution_count": 1,
   "id": "6156a4fa-54ce-4715-9f38-371470a0d8ef",
   "metadata": {},
   "outputs": [],
   "source": [
    "  #PYTHON BASIC VARIABLES:\n",
    "    \n",
    "  #QUESTION NO -1"
   ]
  },
  {
   "cell_type": "code",
   "execution_count": 5,
   "id": "497ffee1-e07e-4720-a551-14f0fb6dcec6",
   "metadata": {},
   "outputs": [
    {
     "name": "stdout",
     "output_type": "stream",
     "text": [
      "value of x: 7\n",
      "value of y: 5\n"
     ]
    }
   ],
   "source": [
    "x=5\n",
    "y=7\n",
    "x=x+y\n",
    "y=x-y\n",
    "x=x-y\n",
    "print(\"value of x:\",x)         #value of x and y after swapping\n",
    "print(\"value of y:\",y)"
   ]
  },
  {
   "cell_type": "code",
   "execution_count": 6,
   "id": "ad586887-e43d-4f1b-849d-01003c9d32cf",
   "metadata": {},
   "outputs": [],
   "source": [
    "#QUESTION NO -2"
   ]
  },
  {
   "cell_type": "code",
   "execution_count": 9,
   "id": "092488b6-1355-46a4-a021-4f3770bf89b9",
   "metadata": {},
   "outputs": [
    {
     "name": "stdin",
     "output_type": "stream",
     "text": [
      "enter the value of length 8\n",
      "enter the value of breadth 7\n"
     ]
    },
    {
     "name": "stdout",
     "output_type": "stream",
     "text": [
      "The value of length is: 8.0\n",
      "The value of breadth is: 7.0\n",
      "the Area of rectangle is: 56.0\n"
     ]
    }
   ],
   "source": [
    "Length=float(input(\"enter the value of length\"))\n",
    "Breadth=float(input(\"enter the value of breadth\"))\n",
    "Area=Length*Breadth\n",
    "\n",
    "print(\"The value of length is:\",Length)\n",
    "print(\"The value of breadth is:\",Breadth)\n",
    "print(\"the Area of rectangle is:\",Area)\n"
   ]
  },
  {
   "cell_type": "code",
   "execution_count": 10,
   "id": "d0ae1fb9-25fd-49c8-ac15-c89b6f31f4f7",
   "metadata": {},
   "outputs": [],
   "source": [
    "#QUESTION NO -3"
   ]
  },
  {
   "cell_type": "code",
   "execution_count": 11,
   "id": "167de398-b069-4479-b1e0-2be578605aca",
   "metadata": {},
   "outputs": [
    {
     "name": "stdin",
     "output_type": "stream",
     "text": [
      "enter the temperature in celcius: 30\n"
     ]
    },
    {
     "name": "stdout",
     "output_type": "stream",
     "text": [
      "celcius equivalent faherenheit is: 86.0\n"
     ]
    }
   ],
   "source": [
    "celcius=float(input(\"enter the temperature in celcius:\"))\n",
    "faherenheit=(celcius*9/5)+32\n",
    "print(\"celcius equivalent faherenheit is:\",faherenheit)\n"
   ]
  },
  {
   "cell_type": "code",
   "execution_count": 15,
   "id": "2c4a4a55-d51d-4742-90bd-bb9a5490cae8",
   "metadata": {},
   "outputs": [],
   "source": [
    "#TOPIC- STRING BASED QUESTION:\n",
    "\n",
    "#QUESTION NO -1"
   ]
  },
  {
   "cell_type": "code",
   "execution_count": 24,
   "id": "2dad9113-5df9-47c6-83a3-89dc7a7a99a0",
   "metadata": {},
   "outputs": [
    {
     "name": "stdin",
     "output_type": "stream",
     "text": [
      " ANKITGUPTA\n"
     ]
    },
    {
     "name": "stdout",
     "output_type": "stream",
     "text": [
      "Length of string is: 10\n"
     ]
    }
   ],
   "source": [
    "s=str(input())\n",
    "length=len(s)\n",
    "print(\"Length of string is:\",length)\n"
   ]
  },
  {
   "cell_type": "code",
   "execution_count": 23,
   "id": "c7970963-8405-4d2a-8ba1-398cbe20d95c",
   "metadata": {},
   "outputs": [],
   "source": [
    "#QUESTION NO -2"
   ]
  },
  {
   "cell_type": "code",
   "execution_count": 28,
   "id": "f5ab7fe9-b8f5-4e56-91d3-2680734d17d2",
   "metadata": {},
   "outputs": [
    {
     "name": "stdin",
     "output_type": "stream",
     "text": [
      "enter the sentence: ANKITgupta\n"
     ]
    },
    {
     "name": "stdout",
     "output_type": "stream",
     "text": [
      "ankitgupta\n",
      "4\n"
     ]
    }
   ],
   "source": [
    "sentence=input(\"enter the sentence:\")\n",
    "string=sentence.lower()                #using lowecase method for converting\n",
    "print(string)\n",
    "count=0\n",
    "list=[\"a\",\"e\",\"i\",\"o\",\"u\"]\n",
    "for char in string:\n",
    "    if char in list:\n",
    "        count=count+1\n",
    "print(count)"
   ]
  },
  {
   "cell_type": "code",
   "execution_count": 29,
   "id": "40a3394c-5eaf-4dcf-a844-e0c4b843bf6e",
   "metadata": {},
   "outputs": [],
   "source": [
    "#QUESTION -3"
   ]
  },
  {
   "cell_type": "code",
   "execution_count": 38,
   "id": "afff0191-1d45-44b9-b3ee-b9e9529cb542",
   "metadata": {},
   "outputs": [
    {
     "name": "stdout",
     "output_type": "stream",
     "text": [
      "atpugtikna\n"
     ]
    }
   ],
   "source": [
    "String=\"ankitgupta\"\n",
    "String=String[9:-11:-1]\n",
    "print(String)\n"
   ]
  },
  {
   "cell_type": "code",
   "execution_count": 39,
   "id": "b2fb9ad9-b7f8-4df0-925d-2f73612de868",
   "metadata": {},
   "outputs": [],
   "source": [
    "#QUESTION -4"
   ]
  },
  {
   "cell_type": "code",
   "execution_count": 25,
   "id": "f739e274-809e-4f57-beb0-38030b487a86",
   "metadata": {},
   "outputs": [
    {
     "name": "stdin",
     "output_type": "stream",
     "text": [
      "Type your string asa\n"
     ]
    },
    {
     "name": "stdout",
     "output_type": "stream",
     "text": [
      "palindrome\n"
     ]
    }
   ],
   "source": [
    "string=input(\"Type your string\")          #Taking input from user:\n",
    "s=string[: : ]\n",
    "t=string[: : -1]\n",
    "if(s==t):                                 #Using if else statement and compare two variable\n",
    " print(\"palindrome\")\n",
    "else:\n",
    "    print(\"Not a palindrome\")\n"
   ]
  },
  {
   "cell_type": "code",
   "execution_count": 1,
   "id": "6da3551c-6076-4725-8e7a-b9cf63d6470e",
   "metadata": {},
   "outputs": [],
   "source": [
    "#QUESTION  -5"
   ]
  },
  {
   "cell_type": "code",
   "execution_count": 26,
   "id": "87614325-28da-464b-a933-f3eee1a67362",
   "metadata": {},
   "outputs": [
    {
     "name": "stdin",
     "output_type": "stream",
     "text": [
      "Type your string I love my india\n"
     ]
    },
    {
     "name": "stdout",
     "output_type": "stream",
     "text": [
      "Your final string is: Ilovemyindia\n"
     ]
    }
   ],
   "source": [
    "string=input(\"Type your string\")        #Taking user input\n",
    "s2=string.replace(\" \",\"\")               #Replace method used for replace spaces\n",
    "print(\"Your final string is:\",s2)"
   ]
  },
  {
   "cell_type": "code",
   "execution_count": null,
   "id": "ac0bc810-c57c-4733-8bbf-d9bba7092b00",
   "metadata": {},
   "outputs": [],
   "source": []
  }
 ],
 "metadata": {
  "kernelspec": {
   "display_name": "Python 3 (ipykernel)",
   "language": "python",
   "name": "python3"
  },
  "language_info": {
   "codemirror_mode": {
    "name": "ipython",
    "version": 3
   },
   "file_extension": ".py",
   "mimetype": "text/x-python",
   "name": "python",
   "nbconvert_exporter": "python",
   "pygments_lexer": "ipython3",
   "version": "3.10.8"
  }
 },
 "nbformat": 4,
 "nbformat_minor": 5
}
